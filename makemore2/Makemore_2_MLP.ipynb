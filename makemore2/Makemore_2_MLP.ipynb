{
 "cells": [
  {
   "cell_type": "code",
   "execution_count": 402,
   "id": "a8199831-7284-4382-ad89-b329180ce640",
   "metadata": {},
   "outputs": [],
   "source": [
    "import torch\n",
    "import torch.nn.functional as F\n",
    "import matplotlib.pyplot as plt\n",
    "%matplotlib inline"
   ]
  },
  {
   "cell_type": "code",
   "execution_count": 403,
   "id": "a5d7d9e7-fc2d-4c25-9b19-d55f5d94959e",
   "metadata": {},
   "outputs": [
    {
     "name": "stdout",
     "output_type": "stream",
     "text": [
      "/Users/satvikahuja13/makemore/makemore2\n"
     ]
    }
   ],
   "source": [
    "!pwd"
   ]
  },
  {
   "cell_type": "code",
   "execution_count": 404,
   "id": "168a32d8-f49e-40b7-8a87-910f166e1939",
   "metadata": {},
   "outputs": [],
   "source": [
    "words = open(\"/Users/satvikahuja13/makemore/names.txt\", \"r\").read().splitlines()"
   ]
  },
  {
   "cell_type": "code",
   "execution_count": 405,
   "id": "b4adf66e-2635-4767-8f68-00c09ae4861a",
   "metadata": {},
   "outputs": [
    {
     "data": {
      "text/plain": [
       "32033"
      ]
     },
     "execution_count": 405,
     "metadata": {},
     "output_type": "execute_result"
    }
   ],
   "source": [
    "len(words)"
   ]
  },
  {
   "cell_type": "code",
   "execution_count": 406,
   "id": "e8ed5012-43e8-4f23-9a79-6ba67fcf6355",
   "metadata": {},
   "outputs": [
    {
     "data": {
      "text/plain": [
       "{1: 'a',\n",
       " 2: 'b',\n",
       " 3: 'c',\n",
       " 4: 'd',\n",
       " 5: 'e',\n",
       " 6: 'f',\n",
       " 7: 'g',\n",
       " 8: 'h',\n",
       " 9: 'i',\n",
       " 10: 'j',\n",
       " 11: 'k',\n",
       " 12: 'l',\n",
       " 13: 'm',\n",
       " 14: 'n',\n",
       " 15: 'o',\n",
       " 16: 'p',\n",
       " 17: 'q',\n",
       " 18: 'r',\n",
       " 19: 's',\n",
       " 20: 't',\n",
       " 21: 'u',\n",
       " 22: 'v',\n",
       " 23: 'w',\n",
       " 24: 'x',\n",
       " 25: 'y',\n",
       " 26: 'z',\n",
       " 0: '.'}"
      ]
     },
     "execution_count": 406,
     "metadata": {},
     "output_type": "execute_result"
    }
   ],
   "source": [
    "# build vocab of ch and mapping to/from int\n",
    "chars = sorted(list(set(''.join(words))))\n",
    "stoi = {s:i+1 for i, s in enumerate(chars)}\n",
    "stoi['.'] = 0\n",
    "itos = {i:s for s,i in stoi.items()}\n",
    "itos"
   ]
  },
  {
   "cell_type": "code",
   "execution_count": 407,
   "id": "ead8003c-42ea-4d0b-a767-3e7cfd3c8bd3",
   "metadata": {},
   "outputs": [],
   "source": [
    "#build the dataset\n",
    "\n",
    "block_size = 3\n",
    "X, Y = [], []\n",
    "for w in words:\n",
    "    # print(w)\n",
    "    context = [0]*block_size\n",
    "    for ch in w + '.':\n",
    "        ix = stoi[ch]\n",
    "        X.append(context)\n",
    "        Y.append(ix)\n",
    "        # print(''.join(itos[i] for i in context), '--->', itos[ix])\n",
    "        context = context[1:] + [ix]\n",
    "\n",
    "X = torch.tensor(X)\n",
    "Y = torch.tensor(Y)"
   ]
  },
  {
   "cell_type": "code",
   "execution_count": 408,
   "id": "96ba5892-0d51-4cd7-90b9-adcdebb79d11",
   "metadata": {},
   "outputs": [
    {
     "data": {
      "text/plain": [
       "(torch.Size([228146, 3]), torch.int64, torch.Size([228146]), torch.int64)"
      ]
     },
     "execution_count": 408,
     "metadata": {},
     "output_type": "execute_result"
    }
   ],
   "source": [
    "X.shape, X.dtype, Y.shape, Y.dtype"
   ]
  },
  {
   "cell_type": "markdown",
   "id": "15f837e6-9149-4401-8412-d5e44ed7cc1f",
   "metadata": {},
   "source": [
    "Sample structure (not real)"
   ]
  },
  {
   "cell_type": "code",
   "execution_count": 409,
   "id": "2c258d83-69a7-44d9-93dc-cdaa500a8920",
   "metadata": {},
   "outputs": [],
   "source": [
    "C = torch.randn((27,2))"
   ]
  },
  {
   "cell_type": "code",
   "execution_count": 410,
   "id": "08adb944-98c7-4eaa-9c8f-9ca2f5c3f70d",
   "metadata": {},
   "outputs": [
    {
     "data": {
      "text/plain": [
       "tensor([-0.2906,  1.2101])"
      ]
     },
     "execution_count": 410,
     "metadata": {},
     "output_type": "execute_result"
    }
   ],
   "source": [
    "C[5]"
   ]
  },
  {
   "cell_type": "code",
   "execution_count": 411,
   "id": "dae9d983-2df0-426f-a252-c5607dbbc6fa",
   "metadata": {},
   "outputs": [
    {
     "data": {
      "text/plain": [
       "tensor([-0.2906,  1.2101])"
      ]
     },
     "execution_count": 411,
     "metadata": {},
     "output_type": "execute_result"
    }
   ],
   "source": [
    "#one more way which we did before lecture\n",
    "F.one_hot(torch.tensor(5), num_classes=27).float() @ C"
   ]
  },
  {
   "cell_type": "code",
   "execution_count": 412,
   "id": "9429d8cc-5263-4e2f-a243-9162eff70ed5",
   "metadata": {},
   "outputs": [
    {
     "data": {
      "text/plain": [
       "tensor([[[ 0.6793, -1.3077],\n",
       "         [ 0.6793, -1.3077],\n",
       "         [ 0.6793, -1.3077]],\n",
       "\n",
       "        [[ 0.6793, -1.3077],\n",
       "         [ 0.6793, -1.3077],\n",
       "         [-0.2906,  1.2101]],\n",
       "\n",
       "        [[ 0.6793, -1.3077],\n",
       "         [-0.2906,  1.2101],\n",
       "         [-0.7512,  0.8682]],\n",
       "\n",
       "        ...,\n",
       "\n",
       "        [[-1.1198,  1.2818],\n",
       "         [-1.1198,  1.2818],\n",
       "         [ 1.8590,  1.0221]],\n",
       "\n",
       "        [[-1.1198,  1.2818],\n",
       "         [ 1.8590,  1.0221],\n",
       "         [-1.1198,  1.2818]],\n",
       "\n",
       "        [[ 1.8590,  1.0221],\n",
       "         [-1.1198,  1.2818],\n",
       "         [-0.6335,  1.1837]]])"
      ]
     },
     "execution_count": 412,
     "metadata": {},
     "output_type": "execute_result"
    }
   ],
   "source": [
    "C[X]"
   ]
  },
  {
   "cell_type": "code",
   "execution_count": 413,
   "id": "3988ff5f-816f-472f-bd69-cf45e9085bb0",
   "metadata": {},
   "outputs": [
    {
     "data": {
      "text/plain": [
       "torch.Size([228146, 3, 2])"
      ]
     },
     "execution_count": 413,
     "metadata": {},
     "output_type": "execute_result"
    }
   ],
   "source": [
    "C[X].shape"
   ]
  },
  {
   "cell_type": "code",
   "execution_count": 414,
   "id": "df371242-139b-42b2-8d7d-208f6716d432",
   "metadata": {},
   "outputs": [
    {
     "data": {
      "text/plain": [
       "tensor([[  6.1140, -11.7690],\n",
       "        [ -5.8141,   9.3783],\n",
       "        [  0.6405,  -5.5365],\n",
       "        [-12.7994,   7.3155],\n",
       "        [ 16.8347,  -1.6037],\n",
       "        [ -2.6158,  10.8907],\n",
       "        [  3.9049, -12.6618],\n",
       "        [ 12.9527,  -1.5378],\n",
       "        [ 11.1623,  -3.1400],\n",
       "        [ -0.1291,  -8.6046],\n",
       "        [-22.2236,  -8.8614],\n",
       "        [ 10.7648,  -4.2332],\n",
       "        [  5.4777,  -8.4224],\n",
       "        [ -6.7604,   7.8136],\n",
       "        [ -5.2064,  -5.2154],\n",
       "        [  3.6561,  -0.6345],\n",
       "        [  4.7702,  -4.3172],\n",
       "        [  3.5746, -14.3168],\n",
       "        [  2.5063,   9.6563],\n",
       "        [-11.1869,   7.3350],\n",
       "        [ -5.6495,  18.6282],\n",
       "        [-16.8891,   0.6062],\n",
       "        [ 13.8788,   1.2016],\n",
       "        [ -2.3927,  -2.5559],\n",
       "        [ -5.7015,  10.6531],\n",
       "        [ 16.7311,   9.1989],\n",
       "        [-10.0778,  11.5361]])"
      ]
     },
     "execution_count": 414,
     "metadata": {},
     "output_type": "execute_result"
    }
   ],
   "source": [
    "X[10,0] * C"
   ]
  },
  {
   "cell_type": "code",
   "execution_count": 415,
   "id": "4cdfb84c-3278-469b-8fd0-053ab6736dec",
   "metadata": {},
   "outputs": [
    {
     "data": {
      "text/plain": [
       "tensor(22)"
      ]
     },
     "execution_count": 415,
     "metadata": {},
     "output_type": "execute_result"
    }
   ],
   "source": [
    "X[10,1]"
   ]
  },
  {
   "cell_type": "code",
   "execution_count": 416,
   "id": "a4f3b14b-16fc-4791-ba65-c68e92b69d20",
   "metadata": {},
   "outputs": [
    {
     "data": {
      "text/plain": [
       "tensor([[ 0.6793, -1.3077],\n",
       "        [-0.6460,  1.0420],\n",
       "        [ 0.0712, -0.6152],\n",
       "        [-1.4222,  0.8128],\n",
       "        [ 1.8705, -0.1782],\n",
       "        [-0.2906,  1.2101],\n",
       "        [ 0.4339, -1.4069],\n",
       "        [ 1.4392, -0.1709],\n",
       "        [ 1.2403, -0.3489],\n",
       "        [-0.0143, -0.9561],\n",
       "        [-2.4693, -0.9846],\n",
       "        [ 1.1961, -0.4704],\n",
       "        [ 0.6086, -0.9358],\n",
       "        [-0.7512,  0.8682],\n",
       "        [-0.5785, -0.5795],\n",
       "        [ 0.4062, -0.0705],\n",
       "        [ 0.5300, -0.4797],\n",
       "        [ 0.3972, -1.5908],\n",
       "        [ 0.2785,  1.0729],\n",
       "        [-1.2430,  0.8150],\n",
       "        [-0.6277,  2.0698],\n",
       "        [-1.8766,  0.0674],\n",
       "        [ 1.5421,  0.1335],\n",
       "        [-0.2659, -0.2840],\n",
       "        [-0.6335,  1.1837],\n",
       "        [ 1.8590,  1.0221],\n",
       "        [-1.1198,  1.2818]])"
      ]
     },
     "execution_count": 416,
     "metadata": {},
     "output_type": "execute_result"
    }
   ],
   "source": [
    "C"
   ]
  },
  {
   "cell_type": "code",
   "execution_count": 417,
   "id": "786b5640-3ced-407d-a8ef-67d2c926ce84",
   "metadata": {},
   "outputs": [
    {
     "data": {
      "text/plain": [
       "tensor([[ 0,  0,  0],\n",
       "        [ 0,  0,  5],\n",
       "        [ 0,  5, 13],\n",
       "        ...,\n",
       "        [26, 26, 25],\n",
       "        [26, 25, 26],\n",
       "        [25, 26, 24]])"
      ]
     },
     "execution_count": 417,
     "metadata": {},
     "output_type": "execute_result"
    }
   ],
   "source": [
    "X"
   ]
  },
  {
   "cell_type": "code",
   "execution_count": 418,
   "id": "b3f28477-7227-4468-a238-443cd9057edb",
   "metadata": {},
   "outputs": [
    {
     "data": {
      "text/plain": [
       "tensor([0., 0., 0., 0., 0., 0., 0., 0., 0., 0., 0., 0., 0., 0., 0., 0., 0., 0.,\n",
       "        0., 0., 0., 0., 1., 0., 0., 0., 0.])"
      ]
     },
     "execution_count": 418,
     "metadata": {},
     "output_type": "execute_result"
    }
   ],
   "source": [
    "index = X[10,1]\n",
    "one_hot = F.one_hot(index, num_classes = 27).float()\n",
    "one_hot"
   ]
  },
  {
   "cell_type": "code",
   "execution_count": 419,
   "id": "d92af201-397c-48b7-8b26-2c0cbd3fbbf8",
   "metadata": {},
   "outputs": [
    {
     "data": {
      "text/plain": [
       "tensor([1.5421, 0.1335])"
      ]
     },
     "execution_count": 419,
     "metadata": {},
     "output_type": "execute_result"
    }
   ],
   "source": [
    "one_hot @ C"
   ]
  },
  {
   "cell_type": "code",
   "execution_count": 420,
   "id": "1796fd65-5b72-4ac8-b847-ebf0b8dad02e",
   "metadata": {},
   "outputs": [
    {
     "data": {
      "text/plain": [
       "tensor([1.5421, 0.1335])"
      ]
     },
     "execution_count": 420,
     "metadata": {},
     "output_type": "execute_result"
    }
   ],
   "source": [
    "C[X][10,1]"
   ]
  },
  {
   "cell_type": "code",
   "execution_count": 421,
   "id": "3ac0979d-12e3-4728-a594-e9297826465a",
   "metadata": {},
   "outputs": [
    {
     "data": {
      "text/plain": [
       "(torch.Size([228146, 3]), torch.int64, torch.Size([228146]), torch.int64)"
      ]
     },
     "execution_count": 421,
     "metadata": {},
     "output_type": "execute_result"
    }
   ],
   "source": [
    "X.shape, X.dtype, Y.shape, Y.dtype"
   ]
  },
  {
   "cell_type": "code",
   "execution_count": 422,
   "id": "3990265f-2e11-456d-a936-b172f6b212c3",
   "metadata": {},
   "outputs": [
    {
     "data": {
      "text/plain": [
       "torch.Size([27, 2])"
      ]
     },
     "execution_count": 422,
     "metadata": {},
     "output_type": "execute_result"
    }
   ],
   "source": [
    "C.shape"
   ]
  },
  {
   "cell_type": "markdown",
   "id": "8e56f8ad-7232-4a98-9729-ded3c71d4475",
   "metadata": {},
   "source": [
    "## Args\n",
    "C-embedding\n",
    "\n",
    "X-input letters(3 letters)\n",
    "\n",
    "Y-prediction letter(1 letter)"
   ]
  },
  {
   "cell_type": "code",
   "execution_count": 423,
   "id": "e3808331-5bac-4bb1-982d-8e022aca4c79",
   "metadata": {},
   "outputs": [
    {
     "data": {
      "image/png": "[encoded data removed]",
      "text/plain": [
       "<Figure size 640x480 with 1 Axes>"
      ]
     },
     "metadata": {},
     "output_type": "display_data"
    }
   ],
   "source": [
    "from PIL import Image\n",
    "import matplotlib.pyplot as plt\n",
    "\n",
    "image_path = 'arch.png'\n",
    "image = Image.open(image_path)\n",
    "\n",
    "plt.imshow(image)\n",
    "plt.axis('off')  \n",
    "plt.show()"
   ]
  },
  {
   "cell_type": "code",
   "execution_count": 424,
   "id": "d9886dd1-498c-4e00-8bd7-611441d8d113",
   "metadata": {},
   "outputs": [
    {
     "name": "stdout",
     "output_type": "stream",
     "text": [
      "torch.Size([228146, 3, 2]) torch.Size([6, 100])\n"
     ]
    }
   ],
   "source": [
    "W1 = torch.randn((6, 100))\n",
    "b1 = torch.randn(100)\n",
    "emb = C[X]\n",
    "print(emb.shape, W1.shape)"
   ]
  },
  {
   "cell_type": "code",
   "execution_count": 425,
   "id": "17d5695c-651f-4625-8957-39ce1294bff4",
   "metadata": {},
   "outputs": [],
   "source": [
    "h = emb.view(-1, 6) @ W1 + b1\n",
    "# not working as emb is 32x3x2 it needs to be 32x6 to multiply"
   ]
  },
  {
   "cell_type": "code",
   "execution_count": 426,
   "id": "6b4447de-12d0-4249-a681-4da07bcb1885",
   "metadata": {},
   "outputs": [
    {
     "data": {
      "text/plain": [
       "torch.Size([228146, 6])"
      ]
     },
     "execution_count": 426,
     "metadata": {},
     "output_type": "execute_result"
    }
   ],
   "source": [
    "torch.cat([emb[:, 0, :], emb[:, 1, :], emb[:, 2, :]],1).shape"
   ]
  },
  {
   "cell_type": "code",
   "execution_count": 427,
   "id": "c7b97866-e5dd-4d59-a2c2-55fbbb95b0a0",
   "metadata": {},
   "outputs": [
    {
     "data": {
      "text/plain": [
       "torch.Size([228146, 6])"
      ]
     },
     "execution_count": 427,
     "metadata": {},
     "output_type": "execute_result"
    }
   ],
   "source": [
    "#another better method of pytorch\n",
    "# len(torch.unbind(emb, 1)) #splits in the dimension 1\n",
    "torch.cat(torch.unbind(emb, 1), 1).shape"
   ]
  },
  {
   "cell_type": "code",
   "execution_count": 428,
   "id": "371e614a-8879-4ab2-9431-cc2196f27ef7",
   "metadata": {},
   "outputs": [],
   "source": [
    "#better and more efficient way to concatenate"
   ]
  },
  {
   "cell_type": "code",
   "execution_count": 429,
   "id": "0c3cf4fa-4859-422b-a387-76725a22873b",
   "metadata": {},
   "outputs": [
    {
     "data": {
      "text/plain": [
       "tensor([ 0,  1,  2,  3,  4,  5,  6,  7,  8,  9, 10, 11, 12, 13, 14, 15, 16, 17])"
      ]
     },
     "execution_count": 429,
     "metadata": {},
     "output_type": "execute_result"
    }
   ],
   "source": [
    "a = torch.arange(18)\n",
    "a"
   ]
  },
  {
   "cell_type": "code",
   "execution_count": 430,
   "id": "2da453c1-02a0-4817-a912-852377f7c0d3",
   "metadata": {},
   "outputs": [
    {
     "data": {
      "text/plain": [
       "torch.Size([18])"
      ]
     },
     "execution_count": 430,
     "metadata": {},
     "output_type": "execute_result"
    }
   ],
   "source": [
    "a.shape"
   ]
  },
  {
   "cell_type": "code",
   "execution_count": 431,
   "id": "dfb6c487-4675-4db1-b662-1291b1571171",
   "metadata": {},
   "outputs": [
    {
     "data": {
      "text/plain": [
       "tensor([[[ 0,  1],\n",
       "         [ 2,  3],\n",
       "         [ 4,  5]],\n",
       "\n",
       "        [[ 6,  7],\n",
       "         [ 8,  9],\n",
       "         [10, 11]],\n",
       "\n",
       "        [[12, 13],\n",
       "         [14, 15],\n",
       "         [16, 17]]])"
      ]
     },
     "execution_count": 431,
     "metadata": {},
     "output_type": "execute_result"
    }
   ],
   "source": [
    "a.view(3,3,2) # THE VIEW METHOD IS EXTREMELY EFFICIENT"
   ]
  },
  {
   "cell_type": "code",
   "execution_count": 432,
   "id": "8d230019-3390-45a6-b52a-44290a538411",
   "metadata": {},
   "outputs": [
    {
     "data": {
      "text/plain": [
       " 0\n",
       " 1\n",
       " 2\n",
       " 3\n",
       " 4\n",
       " 5\n",
       " 6\n",
       " 7\n",
       " 8\n",
       " 9\n",
       " 10\n",
       " 11\n",
       " 12\n",
       " 13\n",
       " 14\n",
       " 15\n",
       " 16\n",
       " 17\n",
       "[torch.storage.TypedStorage(dtype=torch.int64, device=cpu) of size 18]"
      ]
     },
     "execution_count": 432,
     "metadata": {},
     "output_type": "execute_result"
    }
   ],
   "source": [
    "a.storage() #when we call .view we are manipulating the attributes of the tensor that dictate how the 1d sequence is interpreted to be ndim tensor, its better and also doesnt create new memory"
   ]
  },
  {
   "cell_type": "code",
   "execution_count": 433,
   "id": "717a3aac-2209-420c-a13a-8b46343dd0de",
   "metadata": {},
   "outputs": [
    {
     "ename": "RuntimeError",
     "evalue": "shape '[32, 6]' is invalid for input of size 1368876",
     "output_type": "error",
     "traceback": [
      "\u001b[0;31m---------------------------------------------------------------------------\u001b[0m",
      "\u001b[0;31mRuntimeError\u001b[0m                              Traceback (most recent call last)",
      "Cell \u001b[0;32mIn[433], line 1\u001b[0m\n\u001b[0;32m----> 1\u001b[0m h \u001b[38;5;241m=\u001b[39m \u001b[43memb\u001b[49m\u001b[38;5;241;43m.\u001b[39;49m\u001b[43mview\u001b[49m\u001b[43m(\u001b[49m\u001b[38;5;241;43m32\u001b[39;49m\u001b[43m,\u001b[49m\u001b[38;5;241;43m6\u001b[39;49m\u001b[43m)\u001b[49m \u001b[38;5;241m@\u001b[39m W1 \u001b[38;5;241m+\u001b[39mb1\n",
      "\u001b[0;31mRuntimeError\u001b[0m: shape '[32, 6]' is invalid for input of size 1368876"
     ]
    }
   ],
   "source": [
    "h = emb.view(32,6) @ W1 +b1"
   ]
  },
  {
   "cell_type": "code",
   "execution_count": 434,
   "id": "a04541d7-4545-45ab-954c-a4323f4f843e",
   "metadata": {},
   "outputs": [
    {
     "data": {
      "text/plain": [
       "tensor([[ 1.2867,  5.1419,  7.0375,  ...,  2.7602, -2.7091, -3.5899],\n",
       "        [-2.2587,  0.5910,  4.5189,  ..., -0.0961, -1.4928, -1.9384],\n",
       "        [-0.0275,  2.3584,  1.6060,  ..., -0.9698,  1.3593, -0.1787],\n",
       "        ...,\n",
       "        [-0.2617, -1.8340, -3.8588,  ...,  3.7963, -0.7261, -0.3497],\n",
       "        [-5.7807,  1.5920, -4.6301,  ..., -1.0874,  2.6867,  3.2224],\n",
       "        [-1.4150, -3.2121, -2.5478,  ..., -5.8633,  0.2087,  4.0342]])"
      ]
     },
     "execution_count": 434,
     "metadata": {},
     "output_type": "execute_result"
    }
   ],
   "source": [
    "h"
   ]
  },
  {
   "cell_type": "code",
   "execution_count": 435,
   "id": "57b593d7-9153-4309-bcd2-8cb04e513cf0",
   "metadata": {},
   "outputs": [
    {
     "data": {
      "text/plain": [
       "torch.Size([228146, 100])"
      ]
     },
     "execution_count": 435,
     "metadata": {},
     "output_type": "execute_result"
    }
   ],
   "source": [
    "h.shape"
   ]
  },
  {
   "cell_type": "code",
   "execution_count": 436,
   "id": "482224a5-5e2f-4947-b482-ff09760b3996",
   "metadata": {},
   "outputs": [],
   "source": [
    "#You can also use -1 which inferes what it should be\n",
    "h = torch.tanh(emb.view(-1,6) @ W1 +b1)"
   ]
  },
  {
   "cell_type": "code",
   "execution_count": 437,
   "id": "6f51bc24-7202-4609-8914-18f69a985564",
   "metadata": {},
   "outputs": [
    {
     "data": {
      "text/plain": [
       "torch.Size([228146, 100])"
      ]
     },
     "execution_count": 437,
     "metadata": {},
     "output_type": "execute_result"
    }
   ],
   "source": [
    "h.shape"
   ]
  },
  {
   "cell_type": "code",
   "execution_count": 438,
   "id": "fa2af28b-2049-4406-a999-320d6a9168d3",
   "metadata": {},
   "outputs": [],
   "source": [
    "W2 = torch.randn(100,27)\n",
    "b2 = torch.randn(27)"
   ]
  },
  {
   "cell_type": "code",
   "execution_count": 439,
   "id": "c14aa71a-6053-4c6a-aebd-a03e766203c4",
   "metadata": {},
   "outputs": [],
   "source": [
    "logits = h @ W2 + b2"
   ]
  },
  {
   "cell_type": "code",
   "execution_count": 440,
   "id": "4c40adc8-75b8-45a2-89b8-f29edec96ae1",
   "metadata": {},
   "outputs": [
    {
     "data": {
      "text/plain": [
       "torch.Size([228146, 27])"
      ]
     },
     "execution_count": 440,
     "metadata": {},
     "output_type": "execute_result"
    }
   ],
   "source": [
    "logits.shape"
   ]
  },
  {
   "cell_type": "code",
   "execution_count": 441,
   "id": "03a258d2-ef7a-47f4-a8d0-6fc3e8025615",
   "metadata": {},
   "outputs": [],
   "source": [
    "counts = logits.exp()"
   ]
  },
  {
   "cell_type": "code",
   "execution_count": 442,
   "id": "befc3299-9e4b-4817-b5ee-47cb9a172959",
   "metadata": {},
   "outputs": [],
   "source": [
    "prob = counts/counts.sum(1, keepdims=True)"
   ]
  },
  {
   "cell_type": "code",
   "execution_count": 443,
   "id": "ea050bc1-7725-4ba6-b24b-3e3dd80e095d",
   "metadata": {},
   "outputs": [
    {
     "data": {
      "text/plain": [
       "torch.Size([228146, 27])"
      ]
     },
     "execution_count": 443,
     "metadata": {},
     "output_type": "execute_result"
    }
   ],
   "source": [
    "prob.shape"
   ]
  },
  {
   "cell_type": "code",
   "execution_count": 444,
   "id": "f2191ae6-b9f2-48db-ab9a-40c0a5690f16",
   "metadata": {},
   "outputs": [
    {
     "data": {
      "text/plain": [
       "tensor([[5.8354e-15, 2.1144e-08, 2.2014e-08,  ..., 9.6557e-16, 1.2204e-04,\n",
       "         2.6889e-09],\n",
       "        [6.8781e-14, 2.1134e-06, 6.4509e-02,  ..., 2.0532e-14, 1.3663e-04,\n",
       "         6.4074e-03],\n",
       "        [2.4125e-16, 2.5919e-08, 1.2285e-13,  ..., 7.1676e-05, 1.3580e-07,\n",
       "         9.9993e-01],\n",
       "        ...,\n",
       "        [3.4178e-06, 3.2689e-07, 7.3075e-16,  ..., 1.4353e-05, 4.1641e-10,\n",
       "         5.7532e-11],\n",
       "        [9.1230e-01, 4.6480e-10, 4.0228e-12,  ..., 1.8725e-02, 1.0117e-13,\n",
       "         2.3292e-03],\n",
       "        [2.8247e-06, 6.1094e-03, 2.4871e-17,  ..., 7.6373e-05, 2.1656e-17,\n",
       "         9.9375e-01]])"
      ]
     },
     "execution_count": 444,
     "metadata": {},
     "output_type": "execute_result"
    }
   ],
   "source": [
    "prob"
   ]
  },
  {
   "cell_type": "code",
   "execution_count": 445,
   "id": "f68a00a9-0ea6-4680-a6d7-9d4b5993bc85",
   "metadata": {},
   "outputs": [
    {
     "data": {
      "text/plain": [
       "tensor([ 0,  1,  2,  3,  4,  5,  6,  7,  8,  9, 10, 11, 12, 13, 14, 15, 16, 17,\n",
       "        18, 19, 20, 21, 22, 23, 24, 25, 26, 27, 28, 29, 30, 31])"
      ]
     },
     "execution_count": 445,
     "metadata": {},
     "output_type": "execute_result"
    }
   ],
   "source": [
    "torch.arange(32)"
   ]
  },
  {
   "cell_type": "code",
   "execution_count": 446,
   "id": "94e2393b-acf1-404f-bc9f-b07bf8633a9d",
   "metadata": {},
   "outputs": [
    {
     "data": {
      "text/plain": [
       "tensor([ 5, 13, 13,  ..., 26, 24,  0])"
      ]
     },
     "execution_count": 446,
     "metadata": {},
     "output_type": "execute_result"
    }
   ],
   "source": [
    "Y"
   ]
  },
  {
   "cell_type": "code",
   "execution_count": 447,
   "id": "68df4200-f869-4a9c-8857-a12ce6dc40bb",
   "metadata": {},
   "outputs": [
    {
     "ename": "IndexError",
     "evalue": "shape mismatch: indexing tensors could not be broadcast together with shapes [32], [228146]",
     "output_type": "error",
     "traceback": [
      "\u001b[0;31m---------------------------------------------------------------------------\u001b[0m",
      "\u001b[0;31mIndexError\u001b[0m                                Traceback (most recent call last)",
      "Cell \u001b[0;32mIn[447], line 2\u001b[0m\n\u001b[1;32m      1\u001b[0m \u001b[38;5;66;03m# to find out correct probability prediction val which means if p is high then it has correctly predicted\u001b[39;00m\n\u001b[0;32m----> 2\u001b[0m \u001b[43mprob\u001b[49m\u001b[43m[\u001b[49m\u001b[43mtorch\u001b[49m\u001b[38;5;241;43m.\u001b[39;49m\u001b[43marange\u001b[49m\u001b[43m(\u001b[49m\u001b[38;5;241;43m32\u001b[39;49m\u001b[43m)\u001b[49m\u001b[43m,\u001b[49m\u001b[43m \u001b[49m\u001b[43mY\u001b[49m\u001b[43m]\u001b[49m\n",
      "\u001b[0;31mIndexError\u001b[0m: shape mismatch: indexing tensors could not be broadcast together with shapes [32], [228146]"
     ]
    }
   ],
   "source": [
    "# to find out correct probability prediction val which means if p is high then it has correctly predicted\n",
    "prob[torch.arange(32), Y]"
   ]
  },
  {
   "cell_type": "code",
   "execution_count": 448,
   "id": "64ced770-865d-431a-8581-c879267608ea",
   "metadata": {},
   "outputs": [
    {
     "ename": "IndexError",
     "evalue": "shape mismatch: indexing tensors could not be broadcast together with shapes [32], [228146]",
     "output_type": "error",
     "traceback": [
      "\u001b[0;31m---------------------------------------------------------------------------\u001b[0m",
      "\u001b[0;31mIndexError\u001b[0m                                Traceback (most recent call last)",
      "Cell \u001b[0;32mIn[448], line 2\u001b[0m\n\u001b[1;32m      1\u001b[0m \u001b[38;5;66;03m# Find loss\u001b[39;00m\n\u001b[0;32m----> 2\u001b[0m loss \u001b[38;5;241m=\u001b[39m \u001b[38;5;241m-\u001b[39m\u001b[43mprob\u001b[49m\u001b[43m[\u001b[49m\u001b[43mtorch\u001b[49m\u001b[38;5;241;43m.\u001b[39;49m\u001b[43marange\u001b[49m\u001b[43m(\u001b[49m\u001b[38;5;241;43m32\u001b[39;49m\u001b[43m)\u001b[49m\u001b[43m,\u001b[49m\u001b[43m \u001b[49m\u001b[43mY\u001b[49m\u001b[43m]\u001b[49m\u001b[38;5;241m.\u001b[39mlog()\u001b[38;5;241m.\u001b[39mmean()\n\u001b[1;32m      3\u001b[0m loss\n",
      "\u001b[0;31mIndexError\u001b[0m: shape mismatch: indexing tensors could not be broadcast together with shapes [32], [228146]"
     ]
    }
   ],
   "source": [
    "# Find loss\n",
    "loss = -prob[torch.arange(32), Y].log().mean()\n",
    "loss"
   ]
  },
  {
   "cell_type": "code",
   "execution_count": 520,
   "id": "2e4a55a7-655d-4c01-a811-fbbd4b3940e7",
   "metadata": {},
   "outputs": [],
   "source": [
    "# train(for training parameters), val(for training hyperparameters), test split(for evaluating performance of the model) for getting better loss\n",
    "# 80, 10, 10%\n"
   ]
  },
  {
   "cell_type": "code",
   "execution_count": 460,
   "id": "2925b2f3-3f4f-4060-8aba-0b540aa9e827",
   "metadata": {},
   "outputs": [
    {
     "name": "stdout",
     "output_type": "stream",
     "text": [
      "torch.Size([182625, 3]) torch.Size([182625])\n",
      "torch.Size([22655, 3]) torch.Size([22655])\n",
      "torch.Size([22866, 3]) torch.Size([22866])\n"
     ]
    }
   ],
   "source": [
    "#build the dataset\n",
    "def build_dataset(words):\n",
    "    block_size = 4\n",
    "    X, Y = [], []\n",
    "    for w in words:\n",
    "        # print(w)\n",
    "        context = [0]*block_size\n",
    "        for ch in w + '.':\n",
    "            ix = stoi[ch]\n",
    "            X.append(context)\n",
    "            Y.append(ix)\n",
    "            # print(''.join(itos[i] for i in context), '--->', itos[ix])\n",
    "            context = context[1:] + [ix]\n",
    "    \n",
    "    X = torch.tensor(X)\n",
    "    Y = torch.tensor(Y)\n",
    "    print(X.shape, Y.shape)\n",
    "    return X, Y\n",
    "\n",
    "import random\n",
    "random.seed(42)\n",
    "random.shuffle(words)\n",
    "n1 = int(0.8 * len(words))\n",
    "n2 = int(0.9 * len(words))\n",
    "\n",
    "Xtr, Ytr = build_dataset(words[:n1])\n",
    "Xdev, Ydev = build_dataset(words[n1:n2])\n",
    "Xte, Yte = build_dataset(words[n2:])"
   ]
  },
  {
   "cell_type": "code",
   "execution_count": 477,
   "id": "80f6f36a-9fb6-43c2-858b-bb96833123b9",
   "metadata": {},
   "outputs": [
    {
     "data": {
      "text/plain": [
       "(torch.Size([182625, 3]), torch.Size([182625]))"
      ]
     },
     "execution_count": 477,
     "metadata": {},
     "output_type": "execute_result"
    }
   ],
   "source": [
    "Xtr.shape, Ytr.shape, #dataset"
   ]
  },
  {
   "cell_type": "code",
   "execution_count": 609,
   "id": "be3ff071-5e45-4ed2-8fc2-1930bc6951a6",
   "metadata": {},
   "outputs": [],
   "source": [
    "g = torch.Generator().manual_seed(2147483647)\n",
    "C = torch.randn((27, 20), generator=g)\n",
    "W1 = torch.randn((60, 300), generator = g)\n",
    "b1 = torch.randn(300, generator=g)\n",
    "W2 = torch.randn((300, 27), generator=g)\n",
    "b2 = torch.randn(27, generator=g)\n",
    "parameters = [C, W1, b1, W2, b2]"
   ]
  },
  {
   "cell_type": "code",
   "execution_count": 610,
   "id": "65764d5a-5b70-4698-94ae-6d7c9167d46d",
   "metadata": {},
   "outputs": [
    {
     "data": {
      "text/plain": [
       "26967"
      ]
     },
     "execution_count": 610,
     "metadata": {},
     "output_type": "execute_result"
    }
   ],
   "source": [
    "sum(p.nelement() for p in parameters) # number of parameters in total"
   ]
  },
  {
   "cell_type": "code",
   "execution_count": 611,
   "id": "821ee03a-b263-4fd6-8d41-2cc1140f4027",
   "metadata": {},
   "outputs": [
    {
     "data": {
      "text/plain": [
       "device(type='mps')"
      ]
     },
     "execution_count": 611,
     "metadata": {},
     "output_type": "execute_result"
    }
   ],
   "source": [
    "for p in parameters:\n",
    "    p.requires_grad = True\n",
    "torch.device(\"mps\")"
   ]
  },
  {
   "cell_type": "code",
   "execution_count": 612,
   "id": "04088363-0aa0-4d8b-bb59-f332961af7b0",
   "metadata": {},
   "outputs": [],
   "source": [
    "lre = torch.linspace(-3, 0, 1000)\n",
    "lrs = 10**lre\n"
   ]
  },
  {
   "cell_type": "code",
   "execution_count": 613,
   "id": "645bd7af-5c1e-4fa1-9bf4-fb186708d35c",
   "metadata": {},
   "outputs": [],
   "source": [
    "lri = []\n",
    "lossi = []\n",
    "stepi = []"
   ]
  },
  {
   "cell_type": "code",
   "execution_count": 632,
   "id": "4417b153-a4e6-404e-a51b-024c3fcdf701",
   "metadata": {},
   "outputs": [
    {
     "name": "stdout",
     "output_type": "stream",
     "text": [
      "1.7942732572555542\n"
     ]
    }
   ],
   "source": [
    "# Training\n",
    "for i in range(250000):\n",
    "    # minibatch construct\n",
    "    ix = torch.randint(0, Xtr.shape[0], (32,))\n",
    "    \n",
    "    # forward pass\n",
    "    emb = C[Xtr[ix]] # (32, 3, 2)\n",
    "    h = torch.tanh(emb.view(-1, 60) @ W1 + b1) # (32, 100)\n",
    "    logits = h @ W2 + b2 # (32, 27)\n",
    "    loss = F.cross_entropy(logits, Ytr[ix])\n",
    "    # print(loss.item())\n",
    "    # backward pass\n",
    "    for p in parameters:\n",
    "        p.grad = None\n",
    "    loss.backward()\n",
    "    # update\n",
    "    # lr = lrs[i]\n",
    "    lr = 0.005 if i < 10000 else (0.001 if i < 100000 and i >= 10000 else (0.0005 if i >= 100000 and i < 150000 else 0.0001))\n",
    "    for p in parameters:\n",
    "        p.data += -lr * p.grad\n",
    "\n",
    "    # track stats\n",
    "    #lri.append(lre[i])\n",
    "    stepi.append(i)\n",
    "    lossi.append(loss.log10().item())\n",
    "    \n",
    "print(loss.item())"
   ]
  },
  {
   "cell_type": "code",
   "execution_count": 633,
   "id": "b3d3a113-8b2e-4385-b77c-35cd60c6def8",
   "metadata": {},
   "outputs": [
    {
     "data": {
      "text/plain": [
       "[<matplotlib.lines.Line2D at 0x1392f27c0>]"
      ]
     },
     "execution_count": 633,
     "metadata": {},
     "output_type": "execute_result"
    },
    {
     "data": {
      "image/png": "[encoded data removed]",
      "text/plain": [
       "<Figure size 640x480 with 1 Axes>"
      ]
     },
     "metadata": {},
     "output_type": "display_data"
    }
   ],
   "source": [
    "plt.plot(stepi, lossi)"
   ]
  },
  {
   "cell_type": "code",
   "execution_count": 634,
   "id": "65bc9c6b-bb99-42e5-91ac-e7dcd7177a07",
   "metadata": {},
   "outputs": [
    {
     "data": {
      "text/plain": [
       "tensor(2.0234, grad_fn=<NllLossBackward0>)"
      ]
     },
     "execution_count": 634,
     "metadata": {},
     "output_type": "execute_result"
    }
   ],
   "source": [
    "emb = C[Xtr] # (32, 3, 2)\n",
    "h = torch.tanh(emb.view(-1, 60) @ W1 + b1) # (32, 100)\n",
    "logits = h @ W2 + b2 # (32, 27)\n",
    "loss = F.cross_entropy(logits, Ytr)\n",
    "loss"
   ]
  },
  {
   "cell_type": "code",
   "execution_count": 635,
   "id": "8193300e-4f32-420b-bd55-6cad386d91e8",
   "metadata": {},
   "outputs": [
    {
     "data": {
      "text/plain": [
       "tensor(2.1178, grad_fn=<NllLossBackward0>)"
      ]
     },
     "execution_count": 635,
     "metadata": {},
     "output_type": "execute_result"
    }
   ],
   "source": [
    "emb = C[Xdev] # (32, 3, 2)\n",
    "h = torch.tanh(emb.view(-1, 60) @ W1 + b1) # (32, 100)\n",
    "logits = h @ W2 + b2 # (32, 27)\n",
    "loss = F.cross_entropy(logits, Ydev)\n",
    "loss"
   ]
  },
  {
   "cell_type": "code",
   "execution_count": 636,
   "id": "e43c4cae-b66a-4086-87b6-a8bf8b2a85f5",
   "metadata": {},
   "outputs": [
    {
     "data": {
      "image/png": "[encoded data removed]",
      "text/plain": [
       "<Figure size 800x800 with 1 Axes>"
      ]
     },
     "metadata": {},
     "output_type": "display_data"
    }
   ],
   "source": [
    "plt.figure(figsize=(8, 8))\n",
    "plt.scatter(C[:, 0].data, C[:, 1].data, s=200)\n",
    "for i in range(C.shape[0]):\n",
    "    plt.text(C[i, 0].item(), C[i, 1].item(), itos[i], ha=\"center\", va=\"center\", color=\"white\")\n",
    "plt.grid(\"minor\")"
   ]
  },
  {
   "cell_type": "code",
   "execution_count": 637,
   "id": "1ff03374-c0f8-41d1-aa7f-8ee0e94a2041",
   "metadata": {},
   "outputs": [
    {
     "name": "stdout",
     "output_type": "stream",
     "text": [
      "eminie.\n",
      "luna.\n",
      "cintinsish.\n",
      "griphaliqazer.\n",
      "chadsha.\n",
      "man.\n",
      "katsy.\n",
      "josha.\n",
      "samira.\n",
      "keon.\n",
      "jenszenishna.\n",
      "moladlanciel.\n",
      "hea.\n",
      "emelleu.\n",
      "rai.\n",
      "javy.\n",
      "kaxpireilah.\n",
      "cyrian.\n",
      "hart.\n",
      "elle.\n"
     ]
    }
   ],
   "source": [
    "# sample from model (inf)\n",
    "g = torch.Generator().manual_seed(214748347 + 10)\n",
    "\n",
    "for _ in range(20):\n",
    "    out = []\n",
    "    context = [0] * block_size\n",
    "    while True:\n",
    "        emb = C[torch.tensor([context])]\n",
    "        h = torch.tanh(emb.view(1, -1) @ W1 + b1)\n",
    "        logits = h @ W2 + b2\n",
    "        probs = F.softmax(logits, dim=1)\n",
    "        ix = torch.multinomial(probs, num_samples=1, generator=g).item()\n",
    "        context = context[1:] + [ix]\n",
    "        out.append(ix)\n",
    "        if ix == 0:\n",
    "            break\n",
    "\n",
    "    print(''.join(itos[i] for i in out))"
   ]
  },
  {
   "cell_type": "code",
   "execution_count": null,
   "id": "c67e254f-9c49-452d-bcab-c1303e588c3e",
   "metadata": {},
   "outputs": [],
   "source": []
  },
  {
   "cell_type": "code",
   "execution_count": null,
   "id": "930786e3-6577-4bc2-bc68-87fe4f57acb1",
   "metadata": {},
   "outputs": [],
   "source": []
  },
  {
   "cell_type": "code",
   "execution_count": null,
   "id": "90a03a6a-0d9e-4384-b9d1-2436606e29bd",
   "metadata": {},
   "outputs": [],
   "source": []
  },
  {
   "cell_type": "code",
   "execution_count": null,
   "id": "850f1cdd-4ab0-4f9f-aaeb-0f1ef69875e6",
   "metadata": {},
   "outputs": [],
   "source": []
  },
  {
   "cell_type": "code",
   "execution_count": null,
   "id": "611771c1-4eb8-4bfa-ab8e-94462455f9c4",
   "metadata": {},
   "outputs": [],
   "source": []
  }
 ],
 "metadata": {
  "kernelspec": {
   "display_name": "Python 3 (ipykernel)",
   "language": "python",
   "name": "python3"
  },
  "language_info": {
   "codemirror_mode": {
    "name": "ipython",
    "version": 3
   },
   "file_extension": ".py",
   "mimetype": "text/x-python",
   "name": "python",
   "nbconvert_exporter": "python",
   "pygments_lexer": "ipython3",
   "version": "3.9.20"
  }
 },
 "nbformat": 4,
 "nbformat_minor": 5
}
