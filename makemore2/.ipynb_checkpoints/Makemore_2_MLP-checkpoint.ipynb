{
 "cells": [
  {
   "cell_type": "code",
   "execution_count": 1,
   "id": "a8199831-7284-4382-ad89-b329180ce640",
   "metadata": {},
   "outputs": [],
   "source": [
    "import torch\n",
    "import torch.nn.functional as F\n",
    "import matplotlib.pyplot as plt\n",
    "%matplotlib inline"
   ]
  },
  {
   "cell_type": "code",
   "execution_count": 2,
   "id": "168a32d8-f49e-40b7-8a87-910f166e1939",
   "metadata": {},
   "outputs": [],
   "source": [
    "words = open(\"names.txt\", \"r\").read().splitlines()"
   ]
  },
  {
   "cell_type": "code",
   "execution_count": 3,
   "id": "b4adf66e-2635-4767-8f68-00c09ae4861a",
   "metadata": {},
   "outputs": [
    {
     "data": {
      "text/plain": [
       "32033"
      ]
     },
     "execution_count": 3,
     "metadata": {},
     "output_type": "execute_result"
    }
   ],
   "source": [
    "len(words)"
   ]
  },
  {
   "cell_type": "code",
   "execution_count": 7,
   "id": "e8ed5012-43e8-4f23-9a79-6ba67fcf6355",
   "metadata": {},
   "outputs": [
    {
     "data": {
      "text/plain": [
       "{1: 'a',\n",
       " 2: 'b',\n",
       " 3: 'c',\n",
       " 4: 'd',\n",
       " 5: 'e',\n",
       " 6: 'f',\n",
       " 7: 'g',\n",
       " 8: 'h',\n",
       " 9: 'i',\n",
       " 10: 'j',\n",
       " 11: 'k',\n",
       " 12: 'l',\n",
       " 13: 'm',\n",
       " 14: 'n',\n",
       " 15: 'o',\n",
       " 16: 'p',\n",
       " 17: 'q',\n",
       " 18: 'r',\n",
       " 19: 's',\n",
       " 20: 't',\n",
       " 21: 'u',\n",
       " 22: 'v',\n",
       " 23: 'w',\n",
       " 24: 'x',\n",
       " 25: 'y',\n",
       " 26: 'z',\n",
       " 0: '.'}"
      ]
     },
     "execution_count": 7,
     "metadata": {},
     "output_type": "execute_result"
    }
   ],
   "source": [
    "# build vocab of ch and mapping to/from int\n",
    "chars = sorted(list(set(''.join(words))))\n",
    "stoi = {s:i+1 for i, s in enumerate(chars)}\n",
    "stoi['.'] = 0\n",
    "itos = {i:s for s,i in stoi.items()}\n",
    "itos"
   ]
  },
  {
   "cell_type": "code",
   "execution_count": 10,
   "id": "ead8003c-42ea-4d0b-a767-3e7cfd3c8bd3",
   "metadata": {},
   "outputs": [
    {
     "name": "stdout",
     "output_type": "stream",
     "text": [
      "emma\n",
      "... ---> e\n",
      "..e ---> m\n",
      ".em ---> m\n",
      "emm ---> a\n",
      "mma ---> .\n",
      "olivia\n",
      "... ---> o\n",
      "..o ---> l\n",
      ".ol ---> i\n",
      "oli ---> v\n",
      "liv ---> i\n",
      "ivi ---> a\n",
      "via ---> .\n",
      "ava\n",
      "... ---> a\n",
      "..a ---> v\n",
      ".av ---> a\n",
      "ava ---> .\n",
      "isabella\n",
      "... ---> i\n",
      "..i ---> s\n",
      ".is ---> a\n",
      "isa ---> b\n",
      "sab ---> e\n",
      "abe ---> l\n",
      "bel ---> l\n",
      "ell ---> a\n",
      "lla ---> .\n",
      "sophia\n",
      "... ---> s\n",
      "..s ---> o\n",
      ".so ---> p\n",
      "sop ---> h\n",
      "oph ---> i\n",
      "phi ---> a\n",
      "hia ---> .\n"
     ]
    }
   ],
   "source": [
    "#build the dataset\n",
    "\n",
    "block_size = 3\n",
    "X, Y = [], []\n",
    "for w in words[:5]:\n",
    "    print(w)\n",
    "    context = [0]*block_size\n",
    "    for ch in w + '.':\n",
    "        ix = stoi[ch]\n",
    "        X.append(context)\n",
    "        Y.append(ix)\n",
    "        print(''.join(itos[i] for i in context), '--->', itos[ix])\n",
    "        context = context[1:] + [ix]\n",
    "\n",
    "X = torch.tensor(X)\n",
    "Y = torch.tensor(Y)"
   ]
  },
  {
   "cell_type": "code",
   "execution_count": 11,
   "id": "96ba5892-0d51-4cd7-90b9-adcdebb79d11",
   "metadata": {},
   "outputs": [
    {
     "data": {
      "text/plain": [
       "(torch.Size([32, 3]), torch.int64, torch.Size([32]), torch.int64)"
      ]
     },
     "execution_count": 11,
     "metadata": {},
     "output_type": "execute_result"
    }
   ],
   "source": [
    "X.shape, X.dtype, Y.shape, Y.dtype"
   ]
  },
  {
   "cell_type": "markdown",
   "id": "15f837e6-9149-4401-8412-d5e44ed7cc1f",
   "metadata": {},
   "source": [
    "Sample structure (not real)"
   ]
  },
  {
   "cell_type": "code",
   "execution_count": 12,
   "id": "2c258d83-69a7-44d9-93dc-cdaa500a8920",
   "metadata": {},
   "outputs": [],
   "source": [
    "C = torch.randn((27,2))"
   ]
  },
  {
   "cell_type": "code",
   "execution_count": 14,
   "id": "08adb944-98c7-4eaa-9c8f-9ca2f5c3f70d",
   "metadata": {},
   "outputs": [
    {
     "data": {
      "text/plain": [
       "tensor([-1.3830, -0.0098])"
      ]
     },
     "execution_count": 14,
     "metadata": {},
     "output_type": "execute_result"
    }
   ],
   "source": [
    "C[5]"
   ]
  },
  {
   "cell_type": "code",
   "execution_count": 32,
   "id": "dae9d983-2df0-426f-a252-c5607dbbc6fa",
   "metadata": {},
   "outputs": [
    {
     "data": {
      "text/plain": [
       "tensor([-1.3830, -0.0098])"
      ]
     },
     "execution_count": 32,
     "metadata": {},
     "output_type": "execute_result"
    }
   ],
   "source": [
    "#one more way which we did before lecture\n",
    "F.one_hot(torch.tensor(5), num_classes=27).float() @ C"
   ]
  },
  {
   "cell_type": "code",
   "execution_count": null,
   "id": "9429d8cc-5263-4e2f-a243-9162eff70ed5",
   "metadata": {},
   "outputs": [],
   "source": [
    "C[X]"
   ]
  },
  {
   "cell_type": "code",
   "execution_count": 34,
   "id": "3988ff5f-816f-472f-bd69-cf45e9085bb0",
   "metadata": {},
   "outputs": [
    {
     "data": {
      "text/plain": [
       "torch.Size([32, 3, 2])"
      ]
     },
     "execution_count": 34,
     "metadata": {},
     "output_type": "execute_result"
    }
   ],
   "source": [
    "C[X].shape"
   ]
  },
  {
   "cell_type": "code",
   "execution_count": 60,
   "id": "df371242-139b-42b2-8d7d-208f6716d432",
   "metadata": {},
   "outputs": [
    {
     "data": {
      "text/plain": [
       "tensor([[ -8.5938,   7.8896],\n",
       "        [  4.9914, -11.7469],\n",
       "        [  2.1846,  -1.0118],\n",
       "        [ -3.8363,  -4.8152],\n",
       "        [  7.8725,  -7.7674],\n",
       "        [-12.4468,  -0.0880],\n",
       "        [  9.4073,  -3.6877],\n",
       "        [ -3.8293,   5.5163],\n",
       "        [ -3.8911,  -2.6441],\n",
       "        [ -0.8880,   4.9774],\n",
       "        [  5.4386,  -5.4542],\n",
       "        [  2.2832,  -3.0990],\n",
       "        [ -5.2504,  -0.4023],\n",
       "        [ -0.6178,   0.3192],\n",
       "        [-11.3072,   0.3927],\n",
       "        [ 10.4095,  -7.6925],\n",
       "        [ -4.5836,  -2.0129],\n",
       "        [ 19.9358,  -4.9684],\n",
       "        [  9.1902,  -7.6534],\n",
       "        [  0.4790,  17.5079],\n",
       "        [ -9.5853,  -9.8835],\n",
       "        [  6.1229,   0.6946],\n",
       "        [  3.0641,  17.6301],\n",
       "        [ 15.1594, -14.2875],\n",
       "        [ -2.6331,  -6.5419],\n",
       "        [ -6.1497, -11.3601],\n",
       "        [  4.2302,  -6.3926]])"
      ]
     },
     "execution_count": 60,
     "metadata": {},
     "output_type": "execute_result"
    }
   ],
   "source": [
    "X[10,0] * C"
   ]
  },
  {
   "cell_type": "code",
   "execution_count": 66,
   "id": "4cdfb84c-3278-469b-8fd0-053ab6736dec",
   "metadata": {},
   "outputs": [
    {
     "data": {
      "text/plain": [
       "tensor(22)"
      ]
     },
     "execution_count": 66,
     "metadata": {},
     "output_type": "execute_result"
    }
   ],
   "source": [
    "X[10,1]"
   ]
  },
  {
   "cell_type": "code",
   "execution_count": 63,
   "id": "a4f3b14b-16fc-4791-ba65-c68e92b69d20",
   "metadata": {},
   "outputs": [
    {
     "data": {
      "text/plain": [
       "tensor([[-0.9549,  0.8766],\n",
       "        [ 0.5546, -1.3052],\n",
       "        [ 0.2427, -0.1124],\n",
       "        [-0.4263, -0.5350],\n",
       "        [ 0.8747, -0.8630],\n",
       "        [-1.3830, -0.0098],\n",
       "        [ 1.0453, -0.4097],\n",
       "        [-0.4255,  0.6129],\n",
       "        [-0.4323, -0.2938],\n",
       "        [-0.0987,  0.5530],\n",
       "        [ 0.6043, -0.6060],\n",
       "        [ 0.2537, -0.3443],\n",
       "        [-0.5834, -0.0447],\n",
       "        [-0.0686,  0.0355],\n",
       "        [-1.2564,  0.0436],\n",
       "        [ 1.1566, -0.8547],\n",
       "        [-0.5093, -0.2237],\n",
       "        [ 2.2151, -0.5520],\n",
       "        [ 1.0211, -0.8504],\n",
       "        [ 0.0532,  1.9453],\n",
       "        [-1.0650, -1.0982],\n",
       "        [ 0.6803,  0.0772],\n",
       "        [ 0.3405,  1.9589],\n",
       "        [ 1.6844, -1.5875],\n",
       "        [-0.2926, -0.7269],\n",
       "        [-0.6833, -1.2622],\n",
       "        [ 0.4700, -0.7103]])"
      ]
     },
     "execution_count": 63,
     "metadata": {},
     "output_type": "execute_result"
    }
   ],
   "source": [
    "C"
   ]
  },
  {
   "cell_type": "code",
   "execution_count": 64,
   "id": "786b5640-3ced-407d-a8ef-67d2c926ce84",
   "metadata": {},
   "outputs": [
    {
     "data": {
      "text/plain": [
       "tensor([[ 0,  0,  0],\n",
       "        [ 0,  0,  5],\n",
       "        [ 0,  5, 13],\n",
       "        [ 5, 13, 13],\n",
       "        [13, 13,  1],\n",
       "        [ 0,  0,  0],\n",
       "        [ 0,  0, 15],\n",
       "        [ 0, 15, 12],\n",
       "        [15, 12,  9],\n",
       "        [12,  9, 22],\n",
       "        [ 9, 22,  9],\n",
       "        [22,  9,  1],\n",
       "        [ 0,  0,  0],\n",
       "        [ 0,  0,  1],\n",
       "        [ 0,  1, 22],\n",
       "        [ 1, 22,  1],\n",
       "        [ 0,  0,  0],\n",
       "        [ 0,  0,  9],\n",
       "        [ 0,  9, 19],\n",
       "        [ 9, 19,  1],\n",
       "        [19,  1,  2],\n",
       "        [ 1,  2,  5],\n",
       "        [ 2,  5, 12],\n",
       "        [ 5, 12, 12],\n",
       "        [12, 12,  1],\n",
       "        [ 0,  0,  0],\n",
       "        [ 0,  0, 19],\n",
       "        [ 0, 19, 15],\n",
       "        [19, 15, 16],\n",
       "        [15, 16,  8],\n",
       "        [16,  8,  9],\n",
       "        [ 8,  9,  1]])"
      ]
     },
     "execution_count": 64,
     "metadata": {},
     "output_type": "execute_result"
    }
   ],
   "source": [
    "X"
   ]
  },
  {
   "cell_type": "code",
   "execution_count": 72,
   "id": "b3f28477-7227-4468-a238-443cd9057edb",
   "metadata": {},
   "outputs": [
    {
     "data": {
      "text/plain": [
       "tensor([0., 0., 0., 0., 0., 0., 0., 0., 0., 0., 0., 0., 0., 0., 0., 0., 0., 0.,\n",
       "        0., 0., 0., 0., 1., 0., 0., 0., 0.])"
      ]
     },
     "execution_count": 72,
     "metadata": {},
     "output_type": "execute_result"
    }
   ],
   "source": [
    "index = X[10,1]\n",
    "one_hot = F.one_hot(index, num_classes = 27).float()\n",
    "one_hot"
   ]
  },
  {
   "cell_type": "code",
   "execution_count": 73,
   "id": "d92af201-397c-48b7-8b26-2c0cbd3fbbf8",
   "metadata": {},
   "outputs": [
    {
     "data": {
      "text/plain": [
       "tensor([0.3405, 1.9589])"
      ]
     },
     "execution_count": 73,
     "metadata": {},
     "output_type": "execute_result"
    }
   ],
   "source": [
    "one_hot @ C"
   ]
  },
  {
   "cell_type": "code",
   "execution_count": 74,
   "id": "1796fd65-5b72-4ac8-b847-ebf0b8dad02e",
   "metadata": {},
   "outputs": [
    {
     "data": {
      "text/plain": [
       "tensor([0.3405, 1.9589])"
      ]
     },
     "execution_count": 75,
     "metadata": {},
     "output_type": "execute_result"
    }
   ],
   "source": [
    "C[X][10,1]"
   ]
  },
  {
   "cell_type": "markdown",
   "id": "02c98cf2-187c-4c70-b3f3-e358007b47e9",
   "metadata": {},
   "source": [
    "### Real embeddings"
   ]
  },
  {
   "cell_type": "code",
   "execution_count": null,
   "id": "3ac0979d-12e3-4728-a594-e9297826465a",
   "metadata": {},
   "outputs": [],
   "source": []
  },
  {
   "cell_type": "code",
   "execution_count": null,
   "id": "3990265f-2e11-456d-a936-b172f6b212c3",
   "metadata": {},
   "outputs": [],
   "source": []
  },
  {
   "cell_type": "code",
   "execution_count": null,
   "id": "21bb6f1d-348d-44af-9200-9ac5c3ab45c6",
   "metadata": {},
   "outputs": [],
   "source": []
  },
  {
   "cell_type": "code",
   "execution_count": null,
   "id": "e3808331-5bac-4bb1-982d-8e022aca4c79",
   "metadata": {},
   "outputs": [],
   "source": []
  },
  {
   "cell_type": "code",
   "execution_count": null,
   "id": "d9886dd1-498c-4e00-8bd7-611441d8d113",
   "metadata": {},
   "outputs": [],
   "source": []
  },
  {
   "cell_type": "code",
   "execution_count": null,
   "id": "17d5695c-651f-4625-8957-39ce1294bff4",
   "metadata": {},
   "outputs": [],
   "source": []
  },
  {
   "cell_type": "code",
   "execution_count": null,
   "id": "6b4447de-12d0-4249-a681-4da07bcb1885",
   "metadata": {},
   "outputs": [],
   "source": []
  },
  {
   "cell_type": "code",
   "execution_count": null,
   "id": "c7b97866-e5dd-4d59-a2c2-55fbbb95b0a0",
   "metadata": {},
   "outputs": [],
   "source": []
  },
  {
   "cell_type": "code",
   "execution_count": null,
   "id": "371e614a-8879-4ab2-9431-cc2196f27ef7",
   "metadata": {},
   "outputs": [],
   "source": []
  },
  {
   "cell_type": "code",
   "execution_count": null,
   "id": "0c3cf4fa-4859-422b-a387-76725a22873b",
   "metadata": {},
   "outputs": [],
   "source": []
  },
  {
   "cell_type": "code",
   "execution_count": null,
   "id": "2da453c1-02a0-4817-a912-852377f7c0d3",
   "metadata": {},
   "outputs": [],
   "source": []
  }
 ],
 "metadata": {
  "kernelspec": {
   "display_name": "Python 3 (ipykernel)",
   "language": "python",
   "name": "python3"
  },
  "language_info": {
   "codemirror_mode": {
    "name": "ipython",
    "version": 3
   },
   "file_extension": ".py",
   "mimetype": "text/x-python",
   "name": "python",
   "nbconvert_exporter": "python",
   "pygments_lexer": "ipython3",
   "version": "3.9.6"
  }
 },
 "nbformat": 4,
 "nbformat_minor": 5
}
